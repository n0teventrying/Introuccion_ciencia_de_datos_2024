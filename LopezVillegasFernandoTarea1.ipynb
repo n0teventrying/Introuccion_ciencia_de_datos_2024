{
  "cells": [
    {
      "cell_type": "markdown",
      "metadata": {
        "id": "LH_kNHL0OOE9"
      },
      "source": [
        "# Bienvenidos a su Tarea 1\n",
        "En esta tarea practicaran lo aprendido estos dos dias, los temas tratados fueron:\n",
        "- Manejo y asignacion de variables\n",
        "- Imprimir datos en pantalla\n",
        "- Definicion de funciones\n",
        "-Ciclos y Bucles (For y while)\n",
        "-Estructuras de control (If, else, elif)\n",
        "-Introduccion a POO (Programacion Orientada a Objetos)"
      ]
    },
    {
      "cell_type": "markdown",
      "metadata": {},
      "source": [
        "### Fernando Maximiliano López Villegas, 316289201"
      ]
    },
    {
      "cell_type": "markdown",
      "metadata": {
        "id": "8uStVft8Og3x"
      },
      "source": [
        "1. Completen y resuelvan el siguiente codigo"
      ]
    },
    {
      "cell_type": "code",
      "execution_count": 38,
      "metadata": {
        "id": "Mnkpr3jxOv-F"
      },
      "outputs": [
        {
          "name": "stdout",
          "output_type": "stream",
          "text": [
            "Ana y Martin son novios\n",
            "25\n",
            "<class 'int'>\n",
            "11.5\n",
            "<class 'float'>\n",
            "11\n",
            "<class 'int'>\n"
          ]
        }
      ],
      "source": [
        "x = 'Ana'\n",
        "y = 'Martin'\n",
        "\n",
        "#Escribe en una linea de codigo, lo necesario para mostrar en pantalla \"Ana y Martin son novios\"\n",
        "print(x,'y',y,'son novios')\n",
        "\n",
        "edadAna = 23\n",
        "#Martin tiene 2 años mas que Maria, asigna en una variable, la edad de Martin e imprimela\n",
        "\n",
        "edadMartin = edadAna + 2\n",
        "print(edadMartin)\n",
        "\n",
        "#¿Que tipo se le asigno a la variable edadMartin? (Puedes imprimir el tipo o escribirlo en un comentario, lo importante es que lo tengas bien)\n",
        "\n",
        "print(type(edadMartin))\n",
        "\n",
        "#Ana quiere saber cuanto es la mitad de su edad, exactamente, para ello quiere dividir entre dos, su edad\n",
        "\n",
        "mitadEdadAnaf = edadAna/2\n",
        "print(mitadEdadAnaf)\n",
        "\n",
        "#¿Que tipo se le asigno a la variable \"mitadEdad\"?\n",
        "\n",
        "print(type(mitadEdadAnaf))\n",
        "\n",
        "#Para estos chicos, era muy dificil saber cuanto representaba .5 en años, realiza la division entera para dar un numero aproximado a la mitad de la edad\n",
        "mitadEdadAnai = edadAna//2\n",
        "print(mitadEdadAnai)\n",
        "#¿Que tipo se le asigno a la nueva variable?\n",
        "print(type(mitadEdadAnai))\n"
      ]
    },
    {
      "cell_type": "markdown",
      "metadata": {
        "id": "XmBg9ZIUQMQh"
      },
      "source": [
        "Muy facil ¿No? <br>\n",
        "\n",
        "2. Ahora, en el siguiente bloque de codigo escriban una funcion \"saludo\" que pregunte al usuario por su edad y su nombre, despues, impriman en pantalla \"Hola __ , tienes ___ años\"\n",
        "\n"
      ]
    },
    {
      "cell_type": "code",
      "execution_count": 39,
      "metadata": {
        "id": "mlgo1biRQ1yQ"
      },
      "outputs": [],
      "source": [
        "def saludo():\n",
        "  nombre = input('Introduzca su nombre:')\n",
        "  edad = input('Introduzca su edad: ')\n",
        "  print('Hola',nombre+', tienes',edad,'años')"
      ]
    },
    {
      "cell_type": "code",
      "execution_count": 40,
      "metadata": {
        "id": "fnx65o4xhRKO"
      },
      "outputs": [
        {
          "name": "stdout",
          "output_type": "stream",
          "text": [
            "Hola Pedro, tienes 45 años\n"
          ]
        }
      ],
      "source": [
        "# Utiliza éste bloque para probar tu funcion\n",
        "saludo()\n",
        "# Salida esperada:\n",
        "# ¿Cuál es tu nombre?: Juan\n",
        "# ¿Cuál es tu edad?: 20\n",
        "# Hola Juan, tienes 20 años"
      ]
    },
    {
      "cell_type": "markdown",
      "metadata": {
        "id": "wrQxH8F_Q1__"
      },
      "source": [
        "3. En el siguiente bloque de código, necesitaremos una funcion llamada \"pelicula\" que nos ayude a saber si el usuario puede ver o no una pelicula _rated R_, para ello, deberemos consultar al usuario por su _edad_ y su _nombre_, la edad de entrada sin estar acompañado es de al menos 18 años, con compañia de un adulto de al menos 16 y si ninguno de los dos requisitos se cumplen, te denegara el acceso\n",
        "\n",
        "El output de tu programa debera escribir algo tal que asi:\n",
        "- Lo sentimos Juan, pero debes tener al menos 18 años para entrar\n",
        "- Vale, Juan, puedes entrar solo si vienes acompañado de un adulto\n",
        "- Adelante Juan, disfruta tu pelicula"
      ]
    },
    {
      "cell_type": "code",
      "execution_count": 41,
      "metadata": {
        "id": "QrjcUmiYSFAR"
      },
      "outputs": [],
      "source": [
        "def pelicula():\n",
        "  nombre = input('Hola, bienvenido el cine, introduzca su nombre: ')\n",
        "  edad = float(input('Introduzca su edad: '))\n",
        "  if edad < 16:\n",
        "    print('Lo sentimos,'+ nombre ,'pero debes tener al menos 18 años para entrar')\n",
        "  elif edad >= 16 and edad < 18:\n",
        "    print('Vale,',nombre +',puedes entrar solo si vienes acompañado de un adulto')\n",
        "  elif edad >= 18:\n",
        "    print('Adelante',nombre +', disfruta tu pelicula')"
      ]
    },
    {
      "cell_type": "code",
      "execution_count": 42,
      "metadata": {
        "id": "OdX_uOXUhxqN"
      },
      "outputs": [
        {
          "name": "stdout",
          "output_type": "stream",
          "text": [
            "Adelante Juan, disfruta tu pelicula\n"
          ]
        }
      ],
      "source": [
        "# Utiliza éste bloque para probar tu funcion\n",
        "pelicula()\n",
        "# Salida esperada:\n",
        "# ¿Cuál es tu nombre?: Juan\n",
        "# ¿Cuál es tu edad?: 17\n",
        "# Vale, Juan, puedes entrar solo si vienes acompañado de un adulto\n",
        "\n",
        "# ¿Cuál es tu nombre?: Pedro\n",
        "# ¿Cuál es tu edad?: 18\n",
        "# Adelante Pedro, disfruta tu pelicula"
      ]
    },
    {
      "cell_type": "markdown",
      "metadata": {
        "id": "iHMLNnaXSFcc"
      },
      "source": [
        "4. En el siguiente ejercicio, deberas construir una funcion \"sumaLista\" que tome una lista de numeros positivos, y devuelva la suma de todos sus elementos (deberas realizar una validacion sobre si tu lista recibida contiene solo numeros)\n",
        "\n"
      ]
    },
    {
      "cell_type": "code",
      "execution_count": 43,
      "metadata": {
        "id": "kuAANcsBjihc"
      },
      "outputs": [],
      "source": [
        "def sumaLista(numeros):\n",
        "  permiso = True\n",
        "  for item in numeros:\n",
        "    if type(item) != int:\n",
        "      permiso = False\n",
        "      print('Tu lista contiene items que no son del tipo int')\n",
        "    else:\n",
        "      pass\n",
        "  if permiso == True:\n",
        "    suma = 0\n",
        "    for item in numeros:\n",
        "      suma += item\n",
        "    return suma\n",
        "  else: \n",
        "    pass"
      ]
    },
    {
      "cell_type": "code",
      "execution_count": 44,
      "metadata": {
        "colab": {
          "base_uri": "https://localhost:8080/"
        },
        "id": "jkX31kZTS-iJ",
        "outputId": "3b482611-29ae-42ab-d898-54f52f6af069"
      },
      "outputs": [
        {
          "data": {
            "text/plain": [
              "345"
            ]
          },
          "execution_count": 44,
          "metadata": {},
          "output_type": "execute_result"
        }
      ],
      "source": [
        "# Utiliza este bloque para probar tu función\n",
        "miLista = [5,2,16,14,90,118,74,26]\n",
        "#print(sumaLista(miLista))\n",
        "sumaLista(miLista)\n",
        "# Resultado Esperado:\n",
        "# 345"
      ]
    },
    {
      "cell_type": "markdown",
      "metadata": {
        "id": "ksYT20MVeN22"
      },
      "source": [
        "5. Haz una función \"creaLista\" que dado un entero positivo genera una lista que contenga todos los numeros enteros positvos previos al número dado (sin considerar al cero); por ejemplo, si tu resultado fue 15, la lista sera tal que : [1,2,3,4,5,6,7,8,9,10,11,12,13,14,15]"
      ]
    },
    {
      "cell_type": "code",
      "execution_count": 45,
      "metadata": {
        "id": "iCsnnlakj2sY"
      },
      "outputs": [],
      "source": [
        "def creaLista(numero):\n",
        "    numero = int(numero)\n",
        "    listanueva = []\n",
        "    for i in range(1,numero+1):\n",
        "       listanueva.append(i)\n",
        "    return listanueva"
      ]
    },
    {
      "cell_type": "code",
      "execution_count": 46,
      "metadata": {
        "colab": {
          "base_uri": "https://localhost:8080/"
        },
        "id": "Qe7ccba3eO7y",
        "outputId": "43e2319c-67bd-4aea-c80d-e161147ff1c2"
      },
      "outputs": [
        {
          "name": "stdout",
          "output_type": "stream",
          "text": [
            "[1, 2, 3, 4, 5, 6, 7, 8, 9, 10, 11, 12, 13, 14, 15, 16, 17, 18, 19, 20, 21, 22, 23, 24, 25, 26, 27, 28, 29, 30, 31, 32, 33, 34, 35, 36, 37, 38, 39, 40, 41, 42, 43, 44, 45, 46, 47, 48, 49, 50, 51, 52, 53, 54, 55, 56, 57, 58, 59, 60, 61, 62, 63, 64, 65, 66, 67, 68, 69, 70, 71, 72, 73, 74, 75, 76, 77, 78, 79, 80, 81, 82, 83, 84, 85, 86, 87, 88, 89, 90, 91, 92, 93, 94, 95, 96, 97, 98, 99, 100, 101, 102, 103, 104, 105, 106, 107, 108, 109, 110, 111, 112, 113, 114, 115, 116, 117, 118, 119, 120, 121, 122, 123, 124, 125, 126, 127, 128, 129, 130, 131, 132, 133, 134, 135, 136, 137, 138, 139, 140, 141, 142, 143, 144, 145, 146, 147, 148, 149, 150, 151, 152, 153, 154, 155, 156, 157, 158, 159, 160, 161, 162, 163, 164, 165, 166, 167, 168, 169, 170, 171, 172, 173, 174, 175, 176, 177, 178, 179, 180, 181, 182, 183, 184, 185, 186, 187, 188, 189, 190, 191, 192, 193, 194, 195, 196, 197, 198, 199, 200, 201, 202, 203, 204, 205, 206, 207, 208, 209, 210, 211, 212, 213, 214, 215, 216, 217, 218, 219, 220, 221, 222, 223, 224, 225, 226, 227, 228, 229, 230, 231, 232, 233, 234, 235, 236, 237, 238, 239, 240, 241, 242, 243, 244, 245, 246, 247, 248, 249, 250, 251, 252, 253, 254, 255, 256, 257, 258, 259, 260, 261, 262, 263, 264, 265, 266, 267, 268, 269, 270, 271, 272, 273, 274, 275, 276, 277, 278, 279, 280, 281, 282, 283, 284, 285, 286, 287, 288, 289, 290, 291, 292, 293, 294, 295, 296, 297, 298, 299, 300, 301, 302, 303, 304, 305, 306, 307, 308, 309, 310, 311, 312, 313, 314, 315, 316, 317, 318, 319, 320, 321, 322, 323, 324, 325, 326, 327, 328, 329, 330, 331, 332, 333, 334, 335, 336, 337, 338, 339, 340, 341, 342, 343, 344, 345]\n"
          ]
        }
      ],
      "source": [
        "# Utiliza este bloque para probar tu función\n",
        "print(creaLista(sumaLista(miLista)))\n",
        "# Resultado esperado:\n",
        "# [1, 2, 3, ..., 345]"
      ]
    },
    {
      "cell_type": "markdown",
      "metadata": {
        "id": "ROUaQysbS_JZ"
      },
      "source": [
        "6. Ahora, realiza una funcion, que acepte como parametro una cadena de texto, despues imprime esa cadena al reves\n",
        "Ej: rev(perro) = \"orrep\"\n",
        "\n",
        "- Ahora que tienes esa funcion, puedes detectar si tu palabra (o frase, para ello deberas ampliar los usos de tu funcion previa) es un palindromo, realiza esta funcion\n"
      ]
    },
    {
      "cell_type": "code",
      "execution_count": 47,
      "metadata": {
        "id": "tVMtL4ayT2W_"
      },
      "outputs": [],
      "source": [
        "def rev(texto):\n",
        "    tr = ''\n",
        "    for i in range(len(texto),0,-1):\n",
        "        tr += texto[i-1]\n",
        "    return tr\n",
        "\n",
        "\n",
        "def palindromo(texto):\n",
        "    wasa  = rev(texto)\n",
        "    if wasa == texto:\n",
        "        return 'Si es palindromo'\n",
        "    else:\n",
        "        return 'No es un palindromo'\n",
        "#No pongo un print porque sino al momento de imprimir en la siguiente celda aparece 'None', lo cual\n",
        "# al principio fue por razones coquette, pero se mete con el type de lo que sea que estemos manejando."
      ]
    },
    {
      "cell_type": "code",
      "execution_count": 48,
      "metadata": {
        "colab": {
          "base_uri": "https://localhost:8080/"
        },
        "id": "xpLlmb8GlNxM",
        "outputId": "9c987fe2-d6d9-49ea-d917-26809c081e98"
      },
      "outputs": [
        {
          "name": "stdout",
          "output_type": "stream",
          "text": [
            "orrep\n",
            "Si es palindromo\n"
          ]
        }
      ],
      "source": [
        "# Utiliza este bloque para probar tu función\n",
        "print(rev(\"perro\")) # Resultado esperado: orrep\n",
        "print(palindromo(\"anitalavalatina\")) # Resultado esperado: True"
      ]
    },
    {
      "cell_type": "markdown",
      "metadata": {
        "id": "btbyM1C3T8WD"
      },
      "source": [
        "7. Imprime en pantalla los primeros 10 numeros no negativos en orden ascendente usando un _for_\n",
        "\n",
        "- Imprime en pantalla los primeros 10 numeros no negativos en orden ascendente usando un _while_\n",
        "\n",
        "\n"
      ]
    },
    {
      "cell_type": "code",
      "execution_count": 49,
      "metadata": {},
      "outputs": [
        {
          "name": "stdout",
          "output_type": "stream",
          "text": [
            "Usando for: \n",
            "1\n",
            "2\n",
            "3\n",
            "4\n",
            "5\n",
            "6\n",
            "7\n",
            "8\n",
            "9\n",
            "10\n",
            "Usando While: \n",
            "1\n",
            "2\n",
            "3\n",
            "4\n",
            "5\n",
            "6\n",
            "7\n",
            "8\n",
            "9\n",
            "10\n"
          ]
        }
      ],
      "source": [
        "w = 10\n",
        "############################\n",
        "print('Usando for: ')\n",
        "for i in range(1,w+1):\n",
        "    print(i)\n",
        "############################    \n",
        "print('Usando While: ')\n",
        "i = 1\n",
        "while i <= w:\n",
        "    print(i)\n",
        "    i += 1"
      ]
    },
    {
      "cell_type": "code",
      "execution_count": 50,
      "metadata": {
        "id": "3pOnXwWlUNY1"
      },
      "outputs": [],
      "source": [
        "# Resultado esperado:\n",
        "# 1\n",
        "# 2\n",
        "# ...\n",
        "# 10\n",
        "# 1\n",
        "# 2\n",
        "# ...\n",
        "# 10"
      ]
    },
    {
      "cell_type": "markdown",
      "metadata": {
        "id": "gZgT-72TUNz7"
      },
      "source": [
        "8. En este ejercicio, construye un objeto \"Circulo\" que como atributos, tenga el radio del circulo junto con el color del circulo y como metodos definidos, uno que asigne (hint:investiga que es un setter) un radio a un circulo, otro que te devuelva el radio de un circulo ya instanciado (hint:investiga que es un getter) y por ultimo, tres metodos, diametro, que devuelve el diametro del objeto, area, que calcula el area del objeto y resumen, que devuelve \"Soy un circulo de color __ , mi diametro es __ y mi area es __\"\n",
        "\n",
        "- Es necesario que para este ejercicio definas clases, ya que estamos hablando de objetos y funciones basicas de ellos"
      ]
    },
    {
      "cell_type": "code",
      "execution_count": 51,
      "metadata": {},
      "outputs": [],
      "source": [
        "import numpy as np"
      ]
    },
    {
      "cell_type": "code",
      "execution_count": 52,
      "metadata": {
        "id": "uHSZnFAkmGaq"
      },
      "outputs": [],
      "source": [
        "class Circulo():\n",
        "\n",
        "  def __init__(self,color,radio):\n",
        "    self.color = color\n",
        "    self.radio = radio\n",
        "\n",
        "#La idea según es que Getter es un método que te permite acceder al atributo en una clase dada\n",
        "# Y un Setter es un método que te permite cambiar o mutar el valor de un atributo en una clase dada\n",
        "# -Real Python\n",
        "\n",
        "# getColor y getRadio son getters, o sea, escupen el color y el radio respectivamente.\n",
        "\n",
        "  def getColor(self):\n",
        "    return self.color\n",
        "\n",
        "  def getRadio(self):\n",
        "    return self.radio\n",
        "\n",
        "# setRadio es un setter, o sea, cambia el radio xd\n",
        "#Como 'tamo muchachos\n",
        "\n",
        "  def setRadio(self, radio):\n",
        "    self.radio = radio\n",
        "\n",
        "  def diametro(self):\n",
        "    return self.radio*2\n",
        "\n",
        "  def area(self):\n",
        "    return (self.radio**2)*np.pi\n",
        "\n",
        "  def resumen(self):\n",
        "    print('Soy un circulo de color',self.color,'mi diametro es',self.diametro(),'y mi area de',self.area())"
      ]
    },
    {
      "cell_type": "code",
      "execution_count": 53,
      "metadata": {
        "id": "hBNFRD4TmGQz"
      },
      "outputs": [
        {
          "name": "stdout",
          "output_type": "stream",
          "text": [
            "5\n",
            "rojo\n",
            "10\n",
            "78.53981633974483\n",
            "Soy un circulo de color rojo mi diametro es 10 y mi area de 78.53981633974483\n",
            "8\n",
            "rojo\n",
            "16\n",
            "201.06192982974676\n",
            "Soy un circulo de color rojo mi diametro es 16 y mi area de 201.06192982974676\n"
          ]
        }
      ],
      "source": [
        "circulo1 = Circulo(\"rojo\",5)\n",
        "# A la izquierda de cada línea se muestran los resultados esperados\n",
        "print(circulo1.getRadio()) # 5\n",
        "print(circulo1.getColor()) # rojo\n",
        "print(circulo1.diametro()) # 10\n",
        "print(circulo1.area()) # 246.74 (puede haber más decimales, no importa)\n",
        "circulo1.resumen() # Soy un circulo de color rojo , mi diametro es 10 y mi area es 246.74(...)\n",
        "\n",
        "# A la izquierda de cada línea se muestran los resultados esperados\n",
        "circulo1.setRadio(8)\n",
        "print(circulo1.getRadio()) # 8\n",
        "print(circulo1.getColor()) # rojo\n",
        "print(circulo1.diametro()) # 16\n",
        "print(circulo1.area()) # 631.65(...)\n",
        "circulo1.resumen() # Soy un circulo de color rojo , mi diametro es 16 y mi area es 631.65(...)"
      ]
    },
    {
      "cell_type": "code",
      "execution_count": null,
      "metadata": {},
      "outputs": [],
      "source": []
    }
  ],
  "metadata": {
    "colab": {
      "provenance": [],
      "toc_visible": true
    },
    "kernelspec": {
      "display_name": "Python 3",
      "name": "python3"
    },
    "language_info": {
      "codemirror_mode": {
        "name": "ipython",
        "version": 3
      },
      "file_extension": ".py",
      "mimetype": "text/x-python",
      "name": "python",
      "nbconvert_exporter": "python",
      "pygments_lexer": "ipython3",
      "version": "3.11.4"
    }
  },
  "nbformat": 4,
  "nbformat_minor": 0
}
