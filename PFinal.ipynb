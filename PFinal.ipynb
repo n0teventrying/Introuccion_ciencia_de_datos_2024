{
 "cells": [
  {
   "cell_type": "markdown",
   "id": "f726a716-e7ed-4e56-b1e8-b56e763d594e",
   "metadata": {},
   "source": [
    "# Proyecto Final \n",
    "\n",
    "## Introducciones \n",
    "\n",
    "En esta etapa final del curso, es fundamental poner en práctica todos los conceptos aprendidos. Hemos seguido un proceso gradual de aprendizaje hasta llegar a los temas que abordaremos hoy.\n",
    "\n",
    "Inicialmente, nos adentramos en la programación en Python, aprendiendo cómo realizar impresiones y, lo más importante, cómo pasar parámetros tanto a funciones como a objetos. También exploramos la importación de bibliotecas, lo que nos permite optimizar y organizar nuestro código de manera más efectiva, así como utilizar funciones predefinidas en lugar de tener que crearlas desde cero.\n",
    "\n",
    "Posteriormente, nos adentramos en el concepto de DataFrame y cómo trabajar con él: consultar, analizar, modificar y limpiar datos. Aunque hemos explorado todos estos temas de manera superficial, en algunas tareas hemos profundizado en funcionalidades específicas que quizás no se han explorado completamente.\n",
    "\n",
    "Finalmente, para cerrar el curso, exploramos cómo utilizar conjuntos de datos junto con diversas funciones de paqueterías útiles para un análisis más exhaustivo y detallado de la información, convirtiéndola en datos utilitarios que podemos emplear.\n",
    "\n",
    "Por ello, en su proyecto final, les pedimos que no lo vean como un simple estudio de caso, sino que se imaginen que están abordando un encargo laboral real. Tienen la libertad de seguir los requisitos mínimos del proyecto o agregar nuevas funcionalidades; los requisitos mínimos son solo el punto de partida, no el límite. Esa es la meta.\n",
    "\n",
    "Suponiendo que su jefe les ha proporcionado este DataFrame y les ha pedido realizar un análisis completo y detallado de los datos, les invitamos a explorar y analizar los datos a su criterio, considerando todos los aspectos relevantes."
   ]
  },
  {
   "cell_type": "markdown",
   "id": "cb58c08c-b66a-4bb3-aeb4-4f8a847b69df",
   "metadata": {},
   "source": [
    "### Requerimientos minimos \n",
    "\n",
    "Ahora bien, para comprender este proyecto, se les solicitará que observen la base de datos y como primer paso, investiguen:\n",
    "\n",
    "Traduzcan las columnas y proporcionen una idea de su posible contenido.\n",
    "¿Qué representa el culmen?\n",
    "Posteriormente, realicen un análisis exploratorio del dataframe, centrándose en los tipos de valores que almacenan sus columnas, la cantidad de valores NaN y en qué columnas se encuentran.\n",
    "\n",
    "El siguiente paso es preparar la base de datos. Para ello, primero deben eliminar las columnas que contienen valores no numéricos, es decir, \"sex\", \"species\" e \"island\". Posteriormente, rellenen con la media de la columna los valores nulos o NaN. Este es un requisito directo que no se puede obviar.\n",
    "\n",
    "Ahora, comencemos con la parte interesante. Impriman en pantalla la matriz de correlación y posteriormente el heatmap. Analicen cuáles son las dos variables que presentan una correlación más alta. Recuerden importar las bibliotecas matplotlib y seaborn.\n",
    "\n",
    "Una vez que conozcan las correlaciones, les interesa visualizar la forma que tienen. Por lo tanto, es necesario que realicen una matriz de gráficos de dispersión. Esto lo pueden lograr utilizando el método pairplot de seaborn.\n",
    "\n",
    "Ahora, realicen una regresión lineal de las dos variables que consideren más significativas. Expongan su coeficiente de determinación (R²) y determinen si es suficientemente explicativo para ustedes. En este apartado, pueden graficar la dispersión de estas dos variables junto con la línea de regresión predicha. También, pueden imprimir los datos que consideren necesarios. Les recomendamos utilizar una función similar a la función score vista en clase, pero también existen más medidas de evaluación.\n",
    "\n",
    "Luego, implementen el algoritmo de k-means para las dos variables que elijan. Les recomendamos no utilizar las mismas dos variables que usaron para la regresión. Para finalizar, ploteen estos gráficos con la coloración que prefieran. Les recomendamos utilizar solo 2-3 centros, pero si realizan un análisis por separado para determinar la mejor cantidad de centros e iteraciones, también es válido.\n",
    "\n",
    "Finalmente, realicen una regresión logística que explique el sexo del pingüino a partir del resto de variables que no son cadenas, para ello tomando el dataset original deberán quitar las columnas \"species\" e \"island\", rellenar con la media los valores en los nulos, quitar las filas con algún nan en la columna 'sex' y cambiar las cadenas MALE y FEMALE por 0 y 1 respectivamente. Usen como ejemplo el que vimos en la última clase con el profesor."
   ]
  },
  {
   "cell_type": "markdown",
   "id": "6d822c06-f149-4d87-ae91-483b58c2d0ea",
   "metadata": {
    "jp-MarkdownHeadingCollapsed": true
   },
   "source": [
    "# Conclusiones y despedida\n",
    "Con esto, les queremos comunicar que estan un paso mas dentro de este mundo de la estadistica y el ML, asi como del aprendizaje supervisado y no supervisado, esperemos , esto les sirva para engrosar y mejorar su CV y que, se dediquen o no a esto, sirva como material divulgativo y les despierte interes por el tema.\n",
    "\n",
    "Les deseamos un excelente inicio de curso para los que reingresaran a las actividades este lunes y una gran vida para todos, que el conocimiento y el aprendizaje, siempre este de su lado\n",
    "\n",
    "De parte de Karla, Manu, Erik y Ale, les agradecemos por su interes y ganas en el curso, ¡Hasta pronto, cientific@s de datos!"
   ]
  }
 ],
 "metadata": {
  "kernelspec": {
   "display_name": "Python 3 (ipykernel)",
   "language": "python",
   "name": "python3"
  },
  "language_info": {
   "codemirror_mode": {
    "name": "ipython",
    "version": 3
   },
   "file_extension": ".py",
   "mimetype": "text/x-python",
   "name": "python",
   "nbconvert_exporter": "python",
   "pygments_lexer": "ipython3",
   "version": "3.11.6"
  }
 },
 "nbformat": 4,
 "nbformat_minor": 5
}
