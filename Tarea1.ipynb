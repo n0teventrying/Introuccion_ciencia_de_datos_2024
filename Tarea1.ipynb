{
  "nbformat": 4,
  "nbformat_minor": 0,
  "metadata": {
    "colab": {
      "provenance": [],
      "toc_visible": true
    },
    "kernelspec": {
      "name": "python3",
      "display_name": "Python 3"
    },
    "language_info": {
      "name": "python"
    }
  },
  "cells": [
    {
      "cell_type": "markdown",
      "source": [
        "#Bienvenidos a su Tarea 1\n",
        "En esta tarea practicaran lo aprendido estos dos dias, los temas tratados fueron:\n",
        "- Manejo y asignacion de variables\n",
        "- Imprimir datos en pantalla\n",
        "- Definicion de funciones\n",
        "-Ciclos y Bucles (For y while)\n",
        "-Estructuras de control (If, else, elif)\n",
        "-Introduccion a POO (Programacion Orientada a Objetos)"
      ],
      "metadata": {
        "id": "LH_kNHL0OOE9"
      }
    },
    {
      "cell_type": "markdown",
      "source": [
        "1. Completen y resuelvan el siguiente codigo"
      ],
      "metadata": {
        "id": "8uStVft8Og3x"
      }
    },
    {
      "cell_type": "code",
      "source": [
        "x = 'Ana'\n",
        "y = 'Martin'\n",
        "\n",
        "#Escribe en una linea de codigo, lo necesario para mostrar en pantalla \"Ana y Martin son novios\"\n",
        "\n",
        "edadAna = 23\n",
        "#Martin tiene 2 años mas que Maria, asigna en una variable, la edad de Martin e imprimela\n",
        "\n",
        "#¿Que tipo se le asigno a la variable edadMartin? (Puedes imprimir el tipo o escribirlo en un comentario, lo importante es que lo tengas bien)\n",
        "\n",
        "\n",
        "#Ana quiere saber cuanto es la mitad de su edad, exactamente, para ello quiere dividir entre dos, su edad\n",
        "\n",
        "#¿Que tipo se le asigno a la variable \"mitadEdad\"?\n",
        "\n",
        "#Para estos chicos, era muy dificil saber cuanto representaba .5 en años, realiza la division entera para dar un numero aproximado a la mitad de la edad\n",
        "\n",
        "#¿Que tipo se le asigno a la nueva variable?\n"
      ],
      "metadata": {
        "id": "Mnkpr3jxOv-F"
      },
      "execution_count": 14,
      "outputs": []
    },
    {
      "cell_type": "markdown",
      "source": [
        "Muy facil ¿No? <br>\n",
        "\n",
        "2. Ahora, en el siguiente bloque de codigo escriban una funcion \"saludo\" que pregunte al usuario por su edad y su nombre, despues, impriman en pantalla \"Hola __ , tienes ___ años\"\n",
        "\n"
      ],
      "metadata": {
        "id": "XmBg9ZIUQMQh"
      }
    },
    {
      "cell_type": "code",
      "source": [
        "def saludo():\n",
        "  pass # Pass es una palabra reservada de python que hace nada, bórrala y\n",
        "       # escribe tu código aquí, también borra este comentario."
      ],
      "metadata": {
        "id": "mlgo1biRQ1yQ"
      },
      "execution_count": 15,
      "outputs": []
    },
    {
      "cell_type": "code",
      "source": [
        "# Utiliza éste bloque para probar tu funcion\n",
        "saludo()\n",
        "# Salida esperada:\n",
        "# ¿Cuál es tu nombre?: Juan\n",
        "# ¿Cuál es tu edad?: 20\n",
        "# Hola Juan, tienes 20 años"
      ],
      "metadata": {
        "id": "fnx65o4xhRKO"
      },
      "execution_count": 16,
      "outputs": []
    },
    {
      "cell_type": "markdown",
      "source": [
        "3. En el siguiente bloque de código, necesitaremos una funcion llamada \"pelicula\" que nos ayude a saber si el usuario puede ver o no una pelicula _rated R_, para ello, deberemos consultar al usuario por su _edad_ y su _nombre_, la edad de entrada sin estar acompañado es de al menos 18 años, con compañia de un adulto de al menos 16 y si ninguno de los dos requisitos se cumplen, te denegara el acceso\n",
        "\n",
        "El output de tu programa debera escribir algo tal que asi:\n",
        "- Lo sentimos Juan, pero debes tener al menos 18 años para entrar\n",
        "- Vale, Juan, puedes entrar solo si vienes acompañado de un adulto\n",
        "- Adelante Juan, disfruta tu pelicula"
      ],
      "metadata": {
        "id": "wrQxH8F_Q1__"
      }
    },
    {
      "cell_type": "code",
      "source": [
        "def pelicula():\n",
        "  pass"
      ],
      "metadata": {
        "id": "QrjcUmiYSFAR"
      },
      "execution_count": 17,
      "outputs": []
    },
    {
      "cell_type": "code",
      "source": [
        "# Utiliza éste bloque para probar tu funcion\n",
        "pelicula()\n",
        "# Salida esperada:\n",
        "# ¿Cuál es tu nombre?: Juan\n",
        "# ¿Cuál es tu edad?: 17\n",
        "# Vale, Juan, puedes entrar solo si vienes acompañado de un adulto\n",
        "\n",
        "# ¿Cuál es tu nombre?: Pedro\n",
        "# ¿Cuál es tu edad?: 18\n",
        "# Adelante Pedro, disfruta tu pelicula"
      ],
      "metadata": {
        "id": "OdX_uOXUhxqN"
      },
      "execution_count": 18,
      "outputs": []
    },
    {
      "cell_type": "markdown",
      "source": [
        "4. En el siguiente ejercicio, deberas construir una funcion \"sumaLista\" que tome una lista de numeros positivos, y devuelva la suma de todos sus elementos (deberas realizar una validacion sobre si tu lista recibida contiene solo numeros)\n",
        "\n"
      ],
      "metadata": {
        "id": "iHMLNnaXSFcc"
      }
    },
    {
      "cell_type": "code",
      "source": [
        "def sumaLista(numeros):\n",
        "  pass"
      ],
      "metadata": {
        "id": "kuAANcsBjihc"
      },
      "execution_count": 19,
      "outputs": []
    },
    {
      "cell_type": "code",
      "source": [
        "# Utiliza este bloque para probar tu función\n",
        "miLista = [5,2,16,14,90,118,74,26]\n",
        "print(sumaLista(miLista))\n",
        "# Resultado Esperado:\n",
        "# 345"
      ],
      "metadata": {
        "id": "jkX31kZTS-iJ",
        "colab": {
          "base_uri": "https://localhost:8080/"
        },
        "outputId": "3b482611-29ae-42ab-d898-54f52f6af069"
      },
      "execution_count": 20,
      "outputs": [
        {
          "output_type": "stream",
          "name": "stdout",
          "text": [
            "None\n"
          ]
        }
      ]
    },
    {
      "cell_type": "markdown",
      "source": [
        "5. Haz una función \"creaLista\" que dado un entero positivo genera una lista que contenga todos los numeros enteros positvos previos al número dado (sin considerar al cero); por ejemplo, si tu resultado fue 15, la lista sera tal que : [1,2,3,4,5,6,7,8,9,10,11,12,13,14,15]"
      ],
      "metadata": {
        "id": "ksYT20MVeN22"
      }
    },
    {
      "cell_type": "code",
      "source": [
        "def creaLista(numero):\n",
        "  pass"
      ],
      "metadata": {
        "id": "iCsnnlakj2sY"
      },
      "execution_count": 21,
      "outputs": []
    },
    {
      "cell_type": "code",
      "source": [
        "# Utiliza este bloque para probar tu función\n",
        "print(creaLista(sumaLista(miLista)))\n",
        "# Resultado esperado:\n",
        "# [1, 2, 3, ..., 345]"
      ],
      "metadata": {
        "id": "Qe7ccba3eO7y",
        "colab": {
          "base_uri": "https://localhost:8080/"
        },
        "outputId": "43e2319c-67bd-4aea-c80d-e161147ff1c2"
      },
      "execution_count": 22,
      "outputs": [
        {
          "output_type": "stream",
          "name": "stdout",
          "text": [
            "None\n"
          ]
        }
      ]
    },
    {
      "cell_type": "markdown",
      "source": [
        "6. Ahora, realiza una funcion, que acepte como parametro una cadena de texto, despues imprime esa cadena al reves\n",
        "Ej: rev(perro) = \"orrep\"\n",
        "\n",
        "- Ahora que tienes esa funcion, puedes detectar si tu palabra (o frase, para ello deberas ampliar los usos de tu funcion previa) es un palindromo, realiza esta funcion\n"
      ],
      "metadata": {
        "id": "ROUaQysbS_JZ"
      }
    },
    {
      "cell_type": "code",
      "source": [
        "def rev(texto):\n",
        "  pass\n",
        "\n",
        "def palindromo(texto):\n",
        "  pass"
      ],
      "metadata": {
        "id": "tVMtL4ayT2W_"
      },
      "execution_count": 23,
      "outputs": []
    },
    {
      "cell_type": "code",
      "source": [
        "# Utiliza este bloque para probar tu función\n",
        "print(rev(\"perro\")) # Resultado esperado: orrep\n",
        "print(palindromo(\"anitalavalatina\")) # Resultado esperado: True"
      ],
      "metadata": {
        "colab": {
          "base_uri": "https://localhost:8080/"
        },
        "id": "xpLlmb8GlNxM",
        "outputId": "9c987fe2-d6d9-49ea-d917-26809c081e98"
      },
      "execution_count": 24,
      "outputs": [
        {
          "output_type": "stream",
          "name": "stdout",
          "text": [
            "None\n"
          ]
        }
      ]
    },
    {
      "cell_type": "markdown",
      "source": [
        "7. Imprime en pantalla los primeros 10 numeros no negativos en orden ascendente usando un _for_\n",
        "\n",
        "- Imprime en pantalla los primeros 10 numeros no negativos en orden ascendente usando un _while_\n",
        "\n",
        "\n"
      ],
      "metadata": {
        "id": "btbyM1C3T8WD"
      }
    },
    {
      "cell_type": "code",
      "source": [
        "# Resultado esperado:\n",
        "# 1\n",
        "# 2\n",
        "# ...\n",
        "# 10\n",
        "# 1\n",
        "# 2\n",
        "# ...\n",
        "# 10"
      ],
      "metadata": {
        "id": "3pOnXwWlUNY1"
      },
      "execution_count": 25,
      "outputs": []
    },
    {
      "cell_type": "markdown",
      "source": [
        "8. En este ejercicio, construye un objeto \"Circulo\" que como atributos, tenga el radio del circulo junto con el color del circulo y como metodos definidos, uno que asigne (hint:investiga que es un setter) un radio a un circulo, otro que te devuelva el radio de un circulo ya instanciado (hint:investiga que es un getter) y por ultimo, tres metodos, diametro, que devuelve el diametro del objeto, area, que calcula el area del objeto y resumen, que devuelve \"Soy un circulo de color __ , mi diametro es __ y mi area es __\"\n",
        "\n",
        "- Es necesario que para este ejercicio definas clases, ya que estamos hablando de objetos y funciones basicas de ellos"
      ],
      "metadata": {
        "id": "gZgT-72TUNz7"
      }
    },
    {
      "cell_type": "code",
      "source": [
        "class Circulo():\n",
        "\n",
        "  def __init__(self,color,radio):\n",
        "    pass\n",
        "\n",
        "  def getColor(self):\n",
        "    pass\n",
        "\n",
        "  def getRadio(self):\n",
        "    pass\n",
        "\n",
        "  def setRadio(self, radio):\n",
        "    pass\n",
        "\n",
        "  def diametro(self):\n",
        "    pass\n",
        "\n",
        "  def area(self):\n",
        "    pass\n",
        "\n",
        "  def resumen(self):\n",
        "    pass"
      ],
      "metadata": {
        "id": "uHSZnFAkmGaq"
      },
      "execution_count": 26,
      "outputs": []
    },
    {
      "cell_type": "code",
      "source": [
        "circulo1 = Circulo(\"rojo\",5)\n",
        "# A la izquierda de cada línea se muestran los resultados esperados\n",
        "print(circulo1.getRadio()) # 5\n",
        "print(circulo1.getColor()) # rojo\n",
        "print(circulo1.diametro()) # 10\n",
        "print(circulo1.area()) # 246.74 (puede haber más decimales, no importa)\n",
        "circulo1.resumen() # Soy un circulo de color rojo , mi diametro es 10 y mi area es 246.74(...)\n",
        "\n",
        "# A la izquierda de cada línea se muestran los resultados esperados\n",
        "circulo1.setRadio(8)\n",
        "print(circulo1.getRadio()) # 8\n",
        "print(circulo1.getColor()) # rojo\n",
        "print(circulo1.diametro()) # 16\n",
        "print(circulo1.area()) # 631.65(...)\n",
        "circulo1.resumen() # Soy un circulo de color rojo , mi diametro es 16 y mi area es 631.65(...)"
      ],
      "metadata": {
        "id": "hBNFRD4TmGQz"
      },
      "execution_count": null,
      "outputs": []
    }
  ]
}